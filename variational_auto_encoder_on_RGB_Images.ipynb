{
 "cells": [
  {
   "cell_type": "markdown",
   "metadata": {},
   "source": [
    "# **Variational Auto-Encoder**"
   ]
  },
  {
   "cell_type": "code",
   "execution_count": 1,
   "metadata": {
    "execution": {
     "iopub.execute_input": "2022-12-31T21:26:24.384949Z",
     "iopub.status.busy": "2022-12-31T21:26:24.384703Z",
     "iopub.status.idle": "2022-12-31T21:26:26.127468Z",
     "shell.execute_reply": "2022-12-31T21:26:26.126388Z",
     "shell.execute_reply.started": "2022-12-31T21:26:24.384901Z"
    },
    "id": "n7Qcr3BWuXNc"
   },
   "outputs": [
    {
     "name": "stderr",
     "output_type": "stream",
     "text": [
      "Using TensorFlow backend.\n"
     ]
    }
   ],
   "source": [
    "import gc\n",
    "import psutil\n",
    "import multiprocessing as mp\n",
    "import copy\n",
    "mp.cpu_count()\n",
    "import numpy as np\n",
    "import cv2\n",
    "import matplotlib.pyplot as plt\n",
    "%matplotlib inline\n",
    "import keras\n",
    "from keras import Input,Sequential, initializers, optimizers, callbacks, layers, models\n",
    "from keras.models import Model,Sequential\n",
    "from keras.layers import Dense,Conv2D,MaxPooling2D,Dropout,BatchNormalization,Lambda,Activation,Input,Flatten,Reshape,Conv2DTranspose\n",
    "import keras.backend as K\n",
    "from keras.layers.merge import add\n",
    "from sklearn.model_selection import train_test_split\n",
    "import os\n",
    "import glob\n",
    "from time import time,asctime\n",
    "from random import randint as r\n",
    "import random"
   ]
  },
  {
   "cell_type": "code",
   "execution_count": 2,
   "metadata": {
    "execution": {
     "iopub.execute_input": "2022-12-31T21:26:26.134487Z",
     "iopub.status.busy": "2022-12-31T21:26:26.132349Z",
     "iopub.status.idle": "2022-12-31T21:26:28.358372Z",
     "shell.execute_reply": "2022-12-31T21:26:28.357616Z",
     "shell.execute_reply.started": "2022-12-31T21:26:26.134430Z"
    }
   },
   "outputs": [
    {
     "data": {
      "text/plain": [
       "'../input/celeba-dataset/img_align_celeba/img_align_celeba/083648.jpg'"
      ]
     },
     "execution_count": 2,
     "metadata": {},
     "output_type": "execute_result"
    }
   ],
   "source": [
    "imgs = glob.glob(\"../input/celeba-dataset/img_align_celeba/img_align_celeba/*.jpg\")\n",
    "imgs[0]"
   ]
  },
  {
   "cell_type": "code",
   "execution_count": 3,
   "metadata": {
    "execution": {
     "iopub.execute_input": "2022-12-31T21:26:28.359829Z",
     "iopub.status.busy": "2022-12-31T21:26:28.359522Z",
     "iopub.status.idle": "2022-12-31T21:52:40.702442Z",
     "shell.execute_reply": "2022-12-31T21:52:40.701696Z",
     "shell.execute_reply.started": "2022-12-31T21:26:28.359780Z"
    },
    "id": "TbCYhpWPCIB7"
   },
   "outputs": [
    {
     "name": "stdout",
     "output_type": "stream",
     "text": [
      "0 / 100000\n",
      "20000 / 100000\n",
      "40000 / 100000\n",
      "60000 / 100000\n",
      "80000 / 100000\n",
      "100000 / 200000\n",
      "120000 / 200000\n",
      "140000 / 200000\n",
      "160000 / 200000\n",
      "180000 / 200000\n",
      "svmem(total=16784248832, available=8471912448, percent=49.5, used=7965327360, free=558374912, active=3152592896, inactive=12059430912, buffers=1107968000, cached=7152578560, shared=1339392, slab=864911360)\n",
      "svmem(total=16784248832, available=10921766912, percent=34.9, used=5515472896, free=3008229376, active=3152592896, inactive=9601953792, buffers=1107968000, cached=7152578560, shared=1339392, slab=864911360)\n"
     ]
    }
   ],
   "source": [
    "train_y = []\n",
    "train_y2 = []\n",
    "for _ in range(0,100000):\n",
    "  if _%20000 == 0:\n",
    "    print(\"{} / 100000\".format(_))\n",
    "  img = cv2.imread(imgs[_])\n",
    "  img = cv2.resize(img,(32,32))\n",
    "  train_y.append(img.astype(\"float32\")/255.0)\n",
    "for _ in range(100000,200000):\n",
    "  if _%20000 == 0:\n",
    "    print(\"{} / 200000\".format(_))\n",
    "  img = cv2.imread(imgs[_])\n",
    "  img = cv2.resize(img,(32,32))\n",
    "  train_y2.append(img.astype(\"float32\")/255.0)\n",
    "train_y = np.array(train_y)\n",
    "train_y2 = np.array(train_y2)\n",
    "Y_data = np.vstack((train_y,train_y2))\n",
    "print(psutil.virtual_memory())\n",
    "del train_y,train_y2\n",
    "gc.collect()\n",
    "print(psutil.virtual_memory())"
   ]
  },
  {
   "cell_type": "code",
   "execution_count": 4,
   "metadata": {
    "execution": {
     "iopub.execute_input": "2022-12-31T21:52:40.704138Z",
     "iopub.status.busy": "2022-12-31T21:52:40.703872Z",
     "iopub.status.idle": "2022-12-31T21:53:05.163550Z",
     "shell.execute_reply": "2022-12-31T21:53:05.162660Z",
     "shell.execute_reply.started": "2022-12-31T21:52:40.704078Z"
    }
   },
   "outputs": [
    {
     "name": "stdout",
     "output_type": "stream",
     "text": [
      "200000 / 202599\n",
      "202000 / 202599\n"
     ]
    }
   ],
   "source": [
    "test_Y = []\n",
    "for _ in range(200000,202599):\n",
    "    if _%2000 == 0:\n",
    "        print(\"{} / 202599\".format(_))\n",
    "    img = cv2.imread(imgs[_])\n",
    "    img = cv2.resize(img,(32,32))\n",
    "    test_Y.append(img.astype(\"float32\")/255.0)\n",
    "test_Y = np.array(test_Y)"
   ]
  },
  {
   "cell_type": "code",
   "execution_count": 5,
   "metadata": {
    "execution": {
     "iopub.execute_input": "2022-12-31T21:53:05.166828Z",
     "iopub.status.busy": "2022-12-31T21:53:05.166343Z",
     "iopub.status.idle": "2022-12-31T21:53:05.174761Z",
     "shell.execute_reply": "2022-12-31T21:53:05.174081Z",
     "shell.execute_reply.started": "2022-12-31T21:53:05.166777Z"
    },
    "id": "orb_K5T77-7U"
   },
   "outputs": [],
   "source": [
    "def sample_z(layers):\n",
    "    std_norm = K.random_normal(shape=(K.shape(layers[0])[0], latent_dim), mean=0, stddev=1)\n",
    "    return layers[0] + layers[1]*std_norm"
   ]
  },
  {
   "cell_type": "markdown",
   "metadata": {
    "id": "yJMas-okFD-n"
   },
   "source": [
    "# Encoder part"
   ]
  },
  {
   "cell_type": "code",
   "execution_count": 6,
   "metadata": {
    "execution": {
     "iopub.execute_input": "2022-12-31T21:53:05.176465Z",
     "iopub.status.busy": "2022-12-31T21:53:05.176009Z",
     "iopub.status.idle": "2022-12-31T21:53:07.810316Z",
     "shell.execute_reply": "2022-12-31T21:53:07.809519Z",
     "shell.execute_reply.started": "2022-12-31T21:53:05.176413Z"
    },
    "id": "cERc9buwBaTB"
   },
   "outputs": [
    {
     "name": "stdout",
     "output_type": "stream",
     "text": [
      "WARNING:tensorflow:From /opt/conda/lib/python3.6/site-packages/tensorflow/python/framework/op_def_library.py:263: colocate_with (from tensorflow.python.framework.ops) is deprecated and will be removed in a future version.\n",
      "Instructions for updating:\n",
      "Colocations handled automatically by placer.\n",
      "__________________________________________________________________________________________________\n",
      "Layer (type)                    Output Shape         Param #     Connected to                     \n",
      "==================================================================================================\n",
      "input_1 (InputLayer)            (None, 32, 32, 3)    0                                            \n",
      "__________________________________________________________________________________________________\n",
      "conv2d_1 (Conv2D)               (None, 32, 32, 32)   2432        input_1[0][0]                    \n",
      "__________________________________________________________________________________________________\n",
      "batch_normalization_1 (BatchNor (None, 32, 32, 32)   128         conv2d_1[0][0]                   \n",
      "__________________________________________________________________________________________________\n",
      "leaky_re_lu_1 (LeakyReLU)       (None, 32, 32, 32)   0           batch_normalization_1[0][0]      \n",
      "__________________________________________________________________________________________________\n",
      "conv2d_2 (Conv2D)               (None, 16, 16, 32)   25632       leaky_re_lu_1[0][0]              \n",
      "__________________________________________________________________________________________________\n",
      "batch_normalization_2 (BatchNor (None, 16, 16, 32)   128         conv2d_2[0][0]                   \n",
      "__________________________________________________________________________________________________\n",
      "leaky_re_lu_2 (LeakyReLU)       (None, 16, 16, 32)   0           batch_normalization_2[0][0]      \n",
      "__________________________________________________________________________________________________\n",
      "conv2d_3 (Conv2D)               (None, 8, 8, 64)     51264       leaky_re_lu_2[0][0]              \n",
      "__________________________________________________________________________________________________\n",
      "batch_normalization_3 (BatchNor (None, 8, 8, 64)     256         conv2d_3[0][0]                   \n",
      "__________________________________________________________________________________________________\n",
      "leaky_re_lu_3 (LeakyReLU)       (None, 8, 8, 64)     0           batch_normalization_3[0][0]      \n",
      "__________________________________________________________________________________________________\n",
      "conv2d_4 (Conv2D)               (None, 8, 8, 64)     102464      leaky_re_lu_3[0][0]              \n",
      "__________________________________________________________________________________________________\n",
      "batch_normalization_4 (BatchNor (None, 8, 8, 64)     256         conv2d_4[0][0]                   \n",
      "__________________________________________________________________________________________________\n",
      "leaky_re_lu_4 (LeakyReLU)       (None, 8, 8, 64)     0           batch_normalization_4[0][0]      \n",
      "__________________________________________________________________________________________________\n",
      "conv2d_5 (Conv2D)               (None, 8, 8, 128)    204928      leaky_re_lu_4[0][0]              \n",
      "__________________________________________________________________________________________________\n",
      "batch_normalization_5 (BatchNor (None, 8, 8, 128)    512         conv2d_5[0][0]                   \n",
      "__________________________________________________________________________________________________\n",
      "leaky_re_lu_5 (LeakyReLU)       (None, 8, 8, 128)    0           batch_normalization_5[0][0]      \n",
      "__________________________________________________________________________________________________\n",
      "global_average_pooling2d_1 (Glo (None, 128)          0           leaky_re_lu_5[0][0]              \n",
      "__________________________________________________________________________________________________\n",
      "dense_1 (Dense)                 (None, 128)          16512       global_average_pooling2d_1[0][0] \n",
      "__________________________________________________________________________________________________\n",
      "dense_2 (Dense)                 (None, 64)           8256        dense_1[0][0]                    \n",
      "__________________________________________________________________________________________________\n",
      "dense_3 (Dense)                 (None, 50)           3250        dense_2[0][0]                    \n",
      "__________________________________________________________________________________________________\n",
      "dense_4 (Dense)                 (None, 50)           3250        dense_2[0][0]                    \n",
      "__________________________________________________________________________________________________\n",
      "lambda_1 (Lambda)               (None, 50)           0           dense_3[0][0]                    \n",
      "                                                                 dense_4[0][0]                    \n",
      "==================================================================================================\n",
      "Total params: 419,268\n",
      "Trainable params: 418,628\n",
      "Non-trainable params: 640\n",
      "__________________________________________________________________________________________________\n"
     ]
    }
   ],
   "source": [
    "latent_dim = 50\n",
    "total_epoch = 50\n",
    "batch_size = 32\n",
    "img_dim = (32, 32)\n",
    "\n",
    "encoder_inputs = keras.Input(shape=(*img_dim, 3))\n",
    "\n",
    "x = layers.Conv2D(32, kernel_size=(5,5), padding='SAME')(encoder_inputs)\n",
    "x = layers.BatchNormalization()(x)\n",
    "x = layers.LeakyReLU(0.2)(x)\n",
    "\n",
    "x = layers.Conv2D(32, kernel_size=(5,5), strides=(2,2),padding='SAME')(x)\n",
    "x = layers.BatchNormalization()(x)\n",
    "x = layers.LeakyReLU(0.2)(x)\n",
    "\n",
    "x = layers.Conv2D(64, kernel_size=(5,5), strides=(2,2),padding='SAME')(x)\n",
    "x = layers.BatchNormalization()(x)\n",
    "x = layers.LeakyReLU(0.2)(x)\n",
    "\n",
    "x = layers.Conv2D(64, kernel_size=(5,5), strides=(1,1), padding='SAME')(x)\n",
    "x = layers.BatchNormalization()(x)\n",
    "x = layers.LeakyReLU(0.2)(x)\n",
    "\n",
    "x = layers.Conv2D(128, kernel_size=(5,5), strides=(1,1), padding='SAME')(x)\n",
    "x = layers.BatchNormalization()(x)\n",
    "x = layers.LeakyReLU(0.2)(x)\n",
    "\n",
    "x = layers.GlobalAveragePooling2D()(x)\n",
    "x = layers.Dense(128, activation=\"relu\")(x)\n",
    "\n",
    "x = layers.Dense(64, activation=\"relu\")(x)\n",
    "\n",
    "mu = layers.Dense(latent_dim)(x)\n",
    "log_sigma = layers.Dense(latent_dim)(x)\n",
    "\n",
    "z = layers.Lambda(sample_z)([mu, log_sigma])\n",
    "\n",
    "encoder = keras.Model(encoder_inputs,z)\n",
    "\n",
    "encoder.summary()\n"
   ]
  },
  {
   "cell_type": "markdown",
   "metadata": {
    "id": "uIuoo_-eFJXl"
   },
   "source": [
    "# Decoder part"
   ]
  },
  {
   "cell_type": "code",
   "execution_count": 7,
   "metadata": {
    "execution": {
     "iopub.execute_input": "2022-12-31T21:53:07.813846Z",
     "iopub.status.busy": "2022-12-31T21:53:07.811492Z",
     "iopub.status.idle": "2022-12-31T21:53:08.458639Z",
     "shell.execute_reply": "2022-12-31T21:53:08.457773Z",
     "shell.execute_reply.started": "2022-12-31T21:53:07.813785Z"
    },
    "id": "u7qUl9JfBaQz"
   },
   "outputs": [
    {
     "name": "stdout",
     "output_type": "stream",
     "text": [
      "_________________________________________________________________\n",
      "Layer (type)                 Output Shape              Param #   \n",
      "=================================================================\n",
      "input_2 (InputLayer)         (None, 50)                0         \n",
      "_________________________________________________________________\n",
      "dense_5 (Dense)              (None, 8192)              417792    \n",
      "_________________________________________________________________\n",
      "reshape_1 (Reshape)          (None, 8, 8, 128)         0         \n",
      "_________________________________________________________________\n",
      "conv2d_6 (Conv2D)            (None, 8, 8, 128)         409728    \n",
      "_________________________________________________________________\n",
      "batch_normalization_6 (Batch (None, 8, 8, 128)         512       \n",
      "_________________________________________________________________\n",
      "leaky_re_lu_6 (LeakyReLU)    (None, 8, 8, 128)         0         \n",
      "_________________________________________________________________\n",
      "conv2d_transpose_1 (Conv2DTr (None, 8, 8, 64)          204864    \n",
      "_________________________________________________________________\n",
      "batch_normalization_7 (Batch (None, 8, 8, 64)          256       \n",
      "_________________________________________________________________\n",
      "leaky_re_lu_7 (LeakyReLU)    (None, 8, 8, 64)          0         \n",
      "_________________________________________________________________\n",
      "conv2d_transpose_2 (Conv2DTr (None, 16, 16, 64)        102464    \n",
      "_________________________________________________________________\n",
      "batch_normalization_8 (Batch (None, 16, 16, 64)        256       \n",
      "_________________________________________________________________\n",
      "leaky_re_lu_8 (LeakyReLU)    (None, 16, 16, 64)        0         \n",
      "_________________________________________________________________\n",
      "conv2d_transpose_3 (Conv2DTr (None, 32, 32, 32)        51232     \n",
      "_________________________________________________________________\n",
      "batch_normalization_9 (Batch (None, 32, 32, 32)        128       \n",
      "_________________________________________________________________\n",
      "leaky_re_lu_9 (LeakyReLU)    (None, 32, 32, 32)        0         \n",
      "_________________________________________________________________\n",
      "conv2d_transpose_4 (Conv2DTr (None, 32, 32, 32)        25632     \n",
      "_________________________________________________________________\n",
      "batch_normalization_10 (Batc (None, 32, 32, 32)        128       \n",
      "_________________________________________________________________\n",
      "leaky_re_lu_10 (LeakyReLU)   (None, 32, 32, 32)        0         \n",
      "_________________________________________________________________\n",
      "conv2d_transpose_5 (Conv2DTr (None, 32, 32, 3)         867       \n",
      "=================================================================\n",
      "Total params: 1,213,859\n",
      "Trainable params: 1,213,219\n",
      "Non-trainable params: 640\n",
      "_________________________________________________________________\n"
     ]
    }
   ],
   "source": [
    "latent_inputs = keras.Input(shape=(latent_dim,))\n",
    "x = layers.Dense(8 * 8 * 128, activation=\"relu\")(latent_inputs)\n",
    "x = layers.Reshape((8, 8, 128))(x)\n",
    "\n",
    "x = layers.Conv2D(128, kernel_size=(5,5), strides=(1,1), padding='SAME')(x)\n",
    "x = layers.BatchNormalization()(x)\n",
    "x = layers.LeakyReLU(0.2)(x)\n",
    "\n",
    "x = layers.Conv2DTranspose(64, kernel_size=(5,5),strides=(1,1), padding='SAME')(x)\n",
    "x = layers.BatchNormalization()(x)\n",
    "x = layers.LeakyReLU(0.2)(x)\n",
    "x = layers.Conv2DTranspose(64, kernel_size=(5,5),strides=(2,2), padding='SAME')(x)\n",
    "x = layers.BatchNormalization()(x)\n",
    "x = layers.LeakyReLU(0.2)(x)\n",
    "\n",
    "x = layers.Conv2DTranspose(32, kernel_size=(5,5),strides=(2,2),padding='SAME')(x)\n",
    "x = layers.BatchNormalization()(x)\n",
    "x = layers.LeakyReLU(0.2)(x)\n",
    "\n",
    "x = layers.Conv2DTranspose(32, kernel_size=(5,5), padding='SAME')(x)\n",
    "x = layers.BatchNormalization()(x)\n",
    "x = layers.LeakyReLU(0.2)(x)\n",
    "decoder_outputs = layers.Conv2DTranspose(3, 3, activation=\"sigmoid\", padding=\"same\")(x)\n",
    "decoder = keras.Model(latent_inputs, decoder_outputs)\n",
    "decoder.summary()"
   ]
  },
  {
   "cell_type": "markdown",
   "metadata": {},
   "source": [
    "# LOSS FUNCTIONS"
   ]
  },
  {
   "cell_type": "code",
   "execution_count": 8,
   "metadata": {
    "execution": {
     "iopub.execute_input": "2022-12-31T21:53:08.460307Z",
     "iopub.status.busy": "2022-12-31T21:53:08.460035Z",
     "iopub.status.idle": "2022-12-31T21:53:08.466775Z",
     "shell.execute_reply": "2022-12-31T21:53:08.464588Z",
     "shell.execute_reply.started": "2022-12-31T21:53:08.460261Z"
    },
    "id": "i8KbxzMxBaOI"
   },
   "outputs": [],
   "source": [
    "def reconstruction_loss(y_true, y_pred):\n",
    "    return K.mean(K.square(y_true - y_pred))\n",
    "\n",
    "def kl_loss(y_true, y_pred):\n",
    "    kl_loss = K.abs(keras.losses.KLD(y_true, y_pred))\n",
    "    return kl_loss\n",
    "\n",
    "def vae_loss(y_true, y_pred):\n",
    "    return reconstruction_loss(y_true, y_pred)+0.25*kl_loss(y_true, y_pred)"
   ]
  },
  {
   "cell_type": "markdown",
   "metadata": {
    "id": "9-6BNcyaFRji"
   },
   "source": [
    "# Connecting the Encoder and Decoder to make the **Auto Encoder**"
   ]
  },
  {
   "cell_type": "code",
   "execution_count": 9,
   "metadata": {
    "execution": {
     "iopub.execute_input": "2022-12-31T21:53:08.469826Z",
     "iopub.status.busy": "2022-12-31T21:53:08.469563Z",
     "iopub.status.idle": "2022-12-31T21:53:09.225374Z",
     "shell.execute_reply": "2022-12-31T21:53:09.224602Z",
     "shell.execute_reply.started": "2022-12-31T21:53:08.469781Z"
    },
    "id": "aHGAu5oGBaMZ"
   },
   "outputs": [],
   "source": [
    "vae = keras.Model(encoder_inputs, decoder(encoder(encoder_inputs)))"
   ]
  },
  {
   "cell_type": "code",
   "execution_count": 10,
   "metadata": {
    "execution": {
     "iopub.execute_input": "2022-12-31T21:53:09.226922Z",
     "iopub.status.busy": "2022-12-31T21:53:09.226655Z",
     "iopub.status.idle": "2022-12-31T21:53:09.280715Z",
     "shell.execute_reply": "2022-12-31T21:53:09.279941Z",
     "shell.execute_reply.started": "2022-12-31T21:53:09.226874Z"
    },
    "id": "E2R5_XH6BaKV"
   },
   "outputs": [],
   "source": [
    "vae.compile(optimizer = \"adam\",loss = vae_loss,metrics = [kl_loss,reconstruction_loss])"
   ]
  },
  {
   "cell_type": "markdown",
   "metadata": {
    "id": "Rm6u84OSF1OW"
   },
   "source": [
    "# Training the VAE"
   ]
  },
  {
   "cell_type": "code",
   "execution_count": 11,
   "metadata": {
    "execution": {
     "iopub.execute_input": "2022-12-31T21:53:09.282821Z",
     "iopub.status.busy": "2022-12-31T21:53:09.282374Z",
     "iopub.status.idle": "2022-12-31T23:32:55.430198Z",
     "shell.execute_reply": "2022-12-31T23:32:55.429565Z",
     "shell.execute_reply.started": "2022-12-31T21:53:09.282632Z"
    }
   },
   "outputs": [
    {
     "name": "stdout",
     "output_type": "stream",
     "text": [
      "WARNING:tensorflow:From /opt/conda/lib/python3.6/site-packages/tensorflow/python/ops/math_ops.py:3066: to_int32 (from tensorflow.python.ops.math_ops) is deprecated and will be removed in a future version.\n",
      "Instructions for updating:\n",
      "Use tf.cast instead.\n",
      "Epoch 1/50\n",
      "200000/200000 [==============================] - 124s 621us/step - loss: 0.0963 - kl_loss: 0.2672 - reconstruction_loss: 0.0295\n",
      "Epoch 2/50\n",
      "200000/200000 [==============================] - 119s 597us/step - loss: 0.0803 - kl_loss: 0.2320 - reconstruction_loss: 0.0223\n",
      "Epoch 3/50\n",
      "200000/200000 [==============================] - 119s 596us/step - loss: 0.0746 - kl_loss: 0.2191 - reconstruction_loss: 0.0199\n",
      "Epoch 4/50\n",
      "200000/200000 [==============================] - 120s 598us/step - loss: 0.0708 - kl_loss: 0.2094 - reconstruction_loss: 0.0185\n",
      "Epoch 5/50\n",
      "200000/200000 [==============================] - 120s 598us/step - loss: 0.0688 - kl_loss: 0.2040 - reconstruction_loss: 0.0178\n",
      "Epoch 6/50\n",
      "200000/200000 [==============================] - 119s 597us/step - loss: 0.0675 - kl_loss: 0.2006 - reconstruction_loss: 0.0173\n",
      "Epoch 7/50\n",
      "200000/200000 [==============================] - 119s 596us/step - loss: 0.0663 - kl_loss: 0.1975 - reconstruction_loss: 0.0169\n",
      "Epoch 8/50\n",
      "200000/200000 [==============================] - 119s 596us/step - loss: 0.0651 - kl_loss: 0.1943 - reconstruction_loss: 0.0165\n",
      "Epoch 9/50\n",
      "200000/200000 [==============================] - 120s 598us/step - loss: 0.0642 - kl_loss: 0.1919 - reconstruction_loss: 0.0162\n",
      "Epoch 10/50\n",
      "200000/200000 [==============================] - 120s 598us/step - loss: 0.0635 - kl_loss: 0.1901 - reconstruction_loss: 0.0160\n",
      "Epoch 11/50\n",
      "200000/200000 [==============================] - 119s 596us/step - loss: 0.0628 - kl_loss: 0.1883 - reconstruction_loss: 0.0158\n",
      "Epoch 12/50\n",
      "200000/200000 [==============================] - 120s 599us/step - loss: 0.0625 - kl_loss: 0.1874 - reconstruction_loss: 0.0156\n",
      "Epoch 13/50\n",
      "200000/200000 [==============================] - 119s 595us/step - loss: 0.0622 - kl_loss: 0.1865 - reconstruction_loss: 0.0155\n",
      "Epoch 14/50\n",
      "200000/200000 [==============================] - 120s 598us/step - loss: 0.0617 - kl_loss: 0.1854 - reconstruction_loss: 0.0154\n",
      "Epoch 15/50\n",
      "200000/200000 [==============================] - 119s 597us/step - loss: 0.0609 - kl_loss: 0.1834 - reconstruction_loss: 0.0151\n",
      "Epoch 16/50\n",
      "200000/200000 [==============================] - 120s 598us/step - loss: 0.0606 - kl_loss: 0.1824 - reconstruction_loss: 0.0150\n",
      "Epoch 17/50\n",
      "200000/200000 [==============================] - 120s 598us/step - loss: 0.0603 - kl_loss: 0.1817 - reconstruction_loss: 0.0149\n",
      "Epoch 18/50\n",
      "200000/200000 [==============================] - 120s 599us/step - loss: 0.0601 - kl_loss: 0.1811 - reconstruction_loss: 0.0148\n",
      "Epoch 19/50\n",
      "200000/200000 [==============================] - 119s 597us/step - loss: 0.0599 - kl_loss: 0.1806 - reconstruction_loss: 0.0148\n",
      "Epoch 20/50\n",
      "200000/200000 [==============================] - 120s 598us/step - loss: 0.0598 - kl_loss: 0.1802 - reconstruction_loss: 0.0147\n",
      "Epoch 21/50\n",
      "200000/200000 [==============================] - 120s 598us/step - loss: 0.0596 - kl_loss: 0.1798 - reconstruction_loss: 0.0147\n",
      "Epoch 22/50\n",
      "200000/200000 [==============================] - 120s 599us/step - loss: 0.0593 - kl_loss: 0.1790 - reconstruction_loss: 0.0145\n",
      "Epoch 23/50\n",
      "200000/200000 [==============================] - 120s 599us/step - loss: 0.0591 - kl_loss: 0.1783 - reconstruction_loss: 0.0145\n",
      "Epoch 24/50\n",
      "200000/200000 [==============================] - 120s 598us/step - loss: 0.0589 - kl_loss: 0.1779 - reconstruction_loss: 0.0144\n",
      "Epoch 25/50\n",
      "200000/200000 [==============================] - 120s 598us/step - loss: 0.0587 - kl_loss: 0.1774 - reconstruction_loss: 0.0144\n",
      "Epoch 26/50\n",
      "200000/200000 [==============================] - 120s 598us/step - loss: 0.0584 - kl_loss: 0.1766 - reconstruction_loss: 0.0143\n",
      "Epoch 27/50\n",
      "200000/200000 [==============================] - 120s 599us/step - loss: 0.0582 - kl_loss: 0.1760 - reconstruction_loss: 0.0142\n",
      "Epoch 28/50\n",
      "200000/200000 [==============================] - 119s 596us/step - loss: 0.0580 - kl_loss: 0.1755 - reconstruction_loss: 0.0141\n",
      "Epoch 29/50\n",
      "200000/200000 [==============================] - 120s 598us/step - loss: 0.0579 - kl_loss: 0.1753 - reconstruction_loss: 0.0141\n",
      "Epoch 30/50\n",
      "200000/200000 [==============================] - 120s 598us/step - loss: 0.0578 - kl_loss: 0.1750 - reconstruction_loss: 0.0141\n",
      "Epoch 31/50\n",
      "200000/200000 [==============================] - 120s 598us/step - loss: 0.0577 - kl_loss: 0.1747 - reconstruction_loss: 0.0140\n",
      "Epoch 32/50\n",
      "200000/200000 [==============================] - 120s 599us/step - loss: 0.0576 - kl_loss: 0.1744 - reconstruction_loss: 0.0140\n",
      "Epoch 33/50\n",
      "200000/200000 [==============================] - 120s 598us/step - loss: 0.0575 - kl_loss: 0.1742 - reconstruction_loss: 0.0140\n",
      "Epoch 34/50\n",
      "200000/200000 [==============================] - 120s 600us/step - loss: 0.0574 - kl_loss: 0.1738 - reconstruction_loss: 0.0139\n",
      "Epoch 35/50\n",
      "200000/200000 [==============================] - 120s 599us/step - loss: 0.0572 - kl_loss: 0.1733 - reconstruction_loss: 0.0138\n",
      "Epoch 36/50\n",
      "200000/200000 [==============================] - 119s 597us/step - loss: 0.0571 - kl_loss: 0.1731 - reconstruction_loss: 0.0138\n",
      "Epoch 37/50\n",
      "200000/200000 [==============================] - 120s 600us/step - loss: 0.0569 - kl_loss: 0.1727 - reconstruction_loss: 0.0138\n",
      "Epoch 38/50\n",
      "200000/200000 [==============================] - 120s 598us/step - loss: 0.0569 - kl_loss: 0.1726 - reconstruction_loss: 0.0137\n",
      "Epoch 39/50\n",
      "200000/200000 [==============================] - 120s 598us/step - loss: 0.0567 - kl_loss: 0.1722 - reconstruction_loss: 0.0137\n",
      "Epoch 40/50\n",
      "200000/200000 [==============================] - 120s 600us/step - loss: 0.0567 - kl_loss: 0.1720 - reconstruction_loss: 0.0137\n",
      "Epoch 41/50\n",
      "200000/200000 [==============================] - 120s 598us/step - loss: 0.0566 - kl_loss: 0.1719 - reconstruction_loss: 0.0137\n",
      "Epoch 42/50\n",
      "200000/200000 [==============================] - 120s 598us/step - loss: 0.0565 - kl_loss: 0.1717 - reconstruction_loss: 0.0136\n",
      "Epoch 43/50\n",
      "200000/200000 [==============================] - 120s 598us/step - loss: 0.0565 - kl_loss: 0.1714 - reconstruction_loss: 0.0136\n",
      "Epoch 44/50\n",
      "200000/200000 [==============================] - 120s 599us/step - loss: 0.0564 - kl_loss: 0.1713 - reconstruction_loss: 0.0136\n",
      "Epoch 45/50\n",
      "200000/200000 [==============================] - 120s 598us/step - loss: 0.0564 - kl_loss: 0.1711 - reconstruction_loss: 0.0136\n",
      "Epoch 46/50\n",
      "200000/200000 [==============================] - 120s 598us/step - loss: 0.0563 - kl_loss: 0.1710 - reconstruction_loss: 0.0136\n",
      "Epoch 47/50\n",
      "200000/200000 [==============================] - 119s 597us/step - loss: 0.0562 - kl_loss: 0.1708 - reconstruction_loss: 0.0135\n",
      "Epoch 48/50\n",
      "200000/200000 [==============================] - 120s 599us/step - loss: 0.0562 - kl_loss: 0.1707 - reconstruction_loss: 0.0135\n",
      "Epoch 49/50\n",
      "200000/200000 [==============================] - 120s 599us/step - loss: 0.0561 - kl_loss: 0.1705 - reconstruction_loss: 0.0135\n",
      "Epoch 50/50\n",
      "200000/200000 [==============================] - 120s 599us/step - loss: 0.0561 - kl_loss: 0.1705 - reconstruction_loss: 0.0135\n"
     ]
    },
    {
     "data": {
      "text/plain": [
       "<keras.callbacks.History at 0x7fdd1c761c18>"
      ]
     },
     "execution_count": 11,
     "metadata": {},
     "output_type": "execute_result"
    }
   ],
   "source": [
    "vae.fit(Y_data,Y_data,batch_size = 32,epochs = total_epoch)"
   ]
  },
  {
   "cell_type": "markdown",
   "metadata": {},
   "source": [
    "# Displaying result"
   ]
  },
  {
   "cell_type": "code",
   "execution_count": 12,
   "metadata": {
    "execution": {
     "iopub.execute_input": "2022-12-31T23:32:55.431731Z",
     "iopub.status.busy": "2022-12-31T23:32:55.431440Z",
     "iopub.status.idle": "2022-12-31T23:32:56.086040Z",
     "shell.execute_reply": "2022-12-31T23:32:56.085237Z",
     "shell.execute_reply.started": "2022-12-31T23:32:55.431681Z"
    },
    "id": "5O_1hWqzBaGJ"
   },
   "outputs": [],
   "source": [
    "pred = vae.predict(test_Y)"
   ]
  },
  {
   "cell_type": "code",
   "execution_count": 31,
   "metadata": {
    "execution": {
     "iopub.execute_input": "2022-12-31T23:35:00.007606Z",
     "iopub.status.busy": "2022-12-31T23:35:00.007302Z",
     "iopub.status.idle": "2022-12-31T23:35:00.432332Z",
     "shell.execute_reply": "2022-12-31T23:35:00.431343Z",
     "shell.execute_reply.started": "2022-12-31T23:35:00.007533Z"
    },
    "id": "hTqpsXWbBaD_"
   },
   "outputs": [
    {
     "name": "stdout",
     "output_type": "stream",
     "text": [
      "974\n"
     ]
    },
    {
     "data": {
      "text/plain": [
       "<matplotlib.image.AxesImage at 0x7fdd12d18080>"
      ]
     },
     "execution_count": 31,
     "metadata": {},
     "output_type": "execute_result"
    },
    {
     "data": {
      "image/png": "[encoded data removed]",
      "text/plain": [
       "<Figure size 432x288 with 2 Axes>"
      ]
     },
     "metadata": {},
     "output_type": "display_data"
    }
   ],
   "source": [
    "temp = r(0,2599)\n",
    "print(temp)\n",
    "plt.subplot(1,2,1)\n",
    "plt.imshow(test_Y[temp])\n",
    "plt.subplot(1,2,2)\n",
    "plt.imshow(pred[temp])"
   ]
  },
  {
   "cell_type": "markdown",
   "metadata": {
    "id": "QTeMxYm6F99-"
   },
   "source": [
    "Generating a new face by passing a random normal sample of size (32,32,3) and observing the output"
   ]
  },
  {
   "cell_type": "code",
   "execution_count": 59,
   "metadata": {
    "execution": {
     "iopub.execute_input": "2022-12-31T23:38:58.192825Z",
     "iopub.status.busy": "2022-12-31T23:38:58.192510Z",
     "iopub.status.idle": "2022-12-31T23:38:58.601237Z",
     "shell.execute_reply": "2022-12-31T23:38:58.600278Z",
     "shell.execute_reply.started": "2022-12-31T23:38:58.192771Z"
    },
    "id": "EVpaLlSbB9UQ"
   },
   "outputs": [
    {
     "name": "stdout",
     "output_type": "stream",
     "text": [
      "1499\n"
     ]
    },
    {
     "data": {
      "text/plain": [
       "<matplotlib.image.AxesImage at 0x7fdd10384668>"
      ]
     },
     "execution_count": 59,
     "metadata": {},
     "output_type": "execute_result"
    },
    {
     "data": {
      "image/png": "[encoded data removed]",
      "text/plain": [
       "<Figure size 432x288 with 2 Axes>"
      ]
     },
     "metadata": {},
     "output_type": "display_data"
    }
   ],
   "source": [
    "temp = r(0,2599)\n",
    "print(temp)\n",
    "plt.subplot(1,2,1)\n",
    "plt.imshow(test_Y[temp])\n",
    "plt.subplot(1,2,2)\n",
    "plt.imshow(pred[temp])"
   ]
  }
 ],
 "metadata": {
  "kernelspec": {
   "display_name": "Python 3 (ipykernel)",
   "language": "python",
   "name": "python3"
  },
  "language_info": {
   "codemirror_mode": {
    "name": "ipython",
    "version": 3
   },
   "file_extension": ".py",
   "mimetype": "text/x-python",
   "name": "python",
   "nbconvert_exporter": "python",
   "pygments_lexer": "ipython3",
   "version": "3.10.5"
  }
 },
 "nbformat": 4,
 "nbformat_minor": 4
}
